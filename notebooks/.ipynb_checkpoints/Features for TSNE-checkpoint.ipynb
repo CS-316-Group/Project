{
 "cells": [
  {
   "cell_type": "code",
   "execution_count": 1,
   "metadata": {},
   "outputs": [
    {
     "name": "stdout",
     "output_type": "stream",
     "text": [
      "Current working directory is now:  C:\\Users\\Caroline Wang\\OneDrive\\Duke\\Senior Year\\CS316\\Project\\src\n"
     ]
    }
   ],
   "source": [
    "import os \n",
    "os.chdir('../src/')\n",
    "print(\"Current working directory is now: \", os.getcwd())\n",
    "\n",
    "import pandas as pd \n",
    "import numpy as np\n",
    "from pandas.io.json import json_normalize\n",
    "from IPython.display import display\n",
    "\n",
    "from data_processing.data_cleaning import *\n",
    "from data_processing.spotify_user import SpotifyUser\n",
    "from utils.load_confs import load_credentials\n",
    "\n",
    "spotify_creds = load_credentials()['spotify_dev_creds']\n"
   ]
  },
  {
   "cell_type": "markdown",
   "metadata": {},
   "source": [
    "In this notebook we will create functions to pull data from the VM database and process the data into features "
   ]
  },
  {
   "cell_type": "markdown",
   "metadata": {},
   "source": [
    "## Query Data From VM Database Using Python\n",
    "\n",
    "1. Need a SQL query that returns the top tracks for a FIXED listener_id, time_span\n",
    "For these top tracks, need a SQL query that returns the genre of each track (associated with the album of the track), the release date of each track (associated with the album of the track), popularity of each track, audio features of each track (i.e., energy level, danceability, speechiness, instrumentalness, valence)\n",
    "\n",
    "Get toptracks info from tracks table. Still need to get toptracks genre from the AlbumHasGenre table. \n",
    "```\n",
    " select * \n",
    " from tracks as t1\n",
    " where t1.track_id in (\n",
    "             select t2.track_id \n",
    "             from toptracks as t2 \n",
    "             where listener_id='314xcqarki42gnkosjtfplluumyb'and time_span='short_term')\n",
    "```\n",
    "\n",
    "\n",
    "2. Need a SQL query that returns the top artists for a FIXED listener_id, time_span\n",
    "For these top artists, need a SQL query that returns the genres of each artist, the popularity of each artist, number followers of each artist\n",
    "\n",
    "Get topartists info from tracks table. Still need to get topartists genre info from the ArtistHasGenre table \n",
    "```\n",
    "select a1.artist_id, a1.artist_pop, a1.num_followers \n",
    "from artists as a1 \n",
    "where a1.artist_id in \n",
    "    (select a2.artist_id \n",
    "     from topartists as a2\n",
    "     where listener_id='314xcqarki42gnkosjtfplluumyb' and time_span='short_term'\n",
    "    )\n",
    "```"
   ]
  },
  {
   "cell_type": "code",
   "execution_count": null,
   "metadata": {},
   "outputs": [],
   "source": []
  },
  {
   "cell_type": "markdown",
   "metadata": {},
   "source": [
    "## Queried Data Into Features "
   ]
  },
  {
   "cell_type": "markdown",
   "metadata": {},
   "source": [
    "#### Import Sample User Info"
   ]
  },
  {
   "cell_type": "code",
   "execution_count": null,
   "metadata": {
    "scrolled": true
   },
   "outputs": [
    {
     "name": "stdout",
     "output_type": "stream",
     "text": [
      "\n",
      "\n",
      "            User authentication requires interaction with your\n",
      "            web browser. Once you enter your credentials and\n",
      "            give authorization, you will be redirected to\n",
      "            a url.  Paste that url you were directed to to\n",
      "            complete the authorization.\n",
      "\n",
      "        \n",
      "Opened https://accounts.spotify.com/authorize?client_id=46a21c22c2b84831a61e13aabc27dc30&response_type=code&redirect_uri=http%3A%2F%2Flocalhost%3A8889&scope=user-follow-read+user-library-read+user-read-recently-played+user-top-read in your browser\n",
      "\n",
      "\n"
     ]
    }
   ],
   "source": [
    "new_username = 'CarolineWang'\n",
    "new_user = SpotifyUser(spotify_creds['spotify_client_id'], \n",
    "                       spotify_creds['spotify_client_secret'], \n",
    "                       'http://localhost:8889', \n",
    "                       new_username)\n"
   ]
  },
  {
   "cell_type": "code",
   "execution_count": null,
   "metadata": {},
   "outputs": [],
   "source": [
    "user_info = clean_listener_info(new_user)\n",
    "top_track_created_by, top_track_artists_to_add = clean_top_tracks_artist_info(new_user)\n",
    "top_artists, top_artists_to_add = clean_top_artists_info(new_user)\n"
   ]
  },
  {
   "cell_type": "code",
   "execution_count": 7,
   "metadata": {
    "scrolled": true
   },
   "outputs": [
    {
     "data": {
      "text/html": [
       "<div>\n",
       "<style scoped>\n",
       "    .dataframe tbody tr th:only-of-type {\n",
       "        vertical-align: middle;\n",
       "    }\n",
       "\n",
       "    .dataframe tbody tr th {\n",
       "        vertical-align: top;\n",
       "    }\n",
       "\n",
       "    .dataframe thead th {\n",
       "        text-align: right;\n",
       "    }\n",
       "</style>\n",
       "<table border=\"1\" class=\"dataframe\">\n",
       "  <thead>\n",
       "    <tr style=\"text-align: right;\">\n",
       "      <th></th>\n",
       "      <th>display_name</th>\n",
       "      <th>listener_id</th>\n",
       "      <th>num_followers</th>\n",
       "      <th>listener_image_url</th>\n",
       "    </tr>\n",
       "  </thead>\n",
       "  <tbody>\n",
       "    <tr>\n",
       "      <th>0</th>\n",
       "      <td>Caroline Wang</td>\n",
       "      <td>314xcqarki42gnkosjtfplluumya</td>\n",
       "      <td>2</td>\n",
       "      <td>https://platform-lookaside.fbsbx.com/platform/...</td>\n",
       "    </tr>\n",
       "  </tbody>\n",
       "</table>\n",
       "</div>"
      ],
      "text/plain": [
       "    display_name                   listener_id  num_followers  \\\n",
       "0  Caroline Wang  314xcqarki42gnkosjtfplluumya              2   \n",
       "\n",
       "                                  listener_image_url  \n",
       "0  https://platform-lookaside.fbsbx.com/platform/...  "
      ]
     },
     "metadata": {},
     "output_type": "display_data"
    },
    {
     "data": {
      "text/html": [
       "<div>\n",
       "<style scoped>\n",
       "    .dataframe tbody tr th:only-of-type {\n",
       "        vertical-align: middle;\n",
       "    }\n",
       "\n",
       "    .dataframe tbody tr th {\n",
       "        vertical-align: top;\n",
       "    }\n",
       "\n",
       "    .dataframe thead th {\n",
       "        text-align: right;\n",
       "    }\n",
       "</style>\n",
       "<table border=\"1\" class=\"dataframe\">\n",
       "  <thead>\n",
       "    <tr style=\"text-align: right;\">\n",
       "      <th></th>\n",
       "      <th>artist_id</th>\n",
       "      <th>track_id</th>\n",
       "    </tr>\n",
       "  </thead>\n",
       "  <tbody>\n",
       "    <tr>\n",
       "      <th>0</th>\n",
       "      <td>06HL4z0CvFAxyc27GXpf02</td>\n",
       "      <td>3RauEVgRgj1IuWdJ9fDs70</td>\n",
       "    </tr>\n",
       "    <tr>\n",
       "      <th>1</th>\n",
       "      <td>06HL4z0CvFAxyc27GXpf02</td>\n",
       "      <td>1p80LdxRV74UKvL8gnD7ky</td>\n",
       "    </tr>\n",
       "    <tr>\n",
       "      <th>2</th>\n",
       "      <td>06HL4z0CvFAxyc27GXpf02</td>\n",
       "      <td>2slqvGLwzZZYsT4K4Y1GBC</td>\n",
       "    </tr>\n",
       "    <tr>\n",
       "      <th>3</th>\n",
       "      <td>06HL4z0CvFAxyc27GXpf02</td>\n",
       "      <td>3i9UVldZOE0aD0JnyfAZZ0</td>\n",
       "    </tr>\n",
       "    <tr>\n",
       "      <th>4</th>\n",
       "      <td>7n2wHs1TKAczGzO7Dd2rGr</td>\n",
       "      <td>3i9UVldZOE0aD0JnyfAZZ0</td>\n",
       "    </tr>\n",
       "  </tbody>\n",
       "</table>\n",
       "</div>"
      ],
      "text/plain": [
       "                artist_id                track_id\n",
       "0  06HL4z0CvFAxyc27GXpf02  3RauEVgRgj1IuWdJ9fDs70\n",
       "1  06HL4z0CvFAxyc27GXpf02  1p80LdxRV74UKvL8gnD7ky\n",
       "2  06HL4z0CvFAxyc27GXpf02  2slqvGLwzZZYsT4K4Y1GBC\n",
       "3  06HL4z0CvFAxyc27GXpf02  3i9UVldZOE0aD0JnyfAZZ0\n",
       "4  7n2wHs1TKAczGzO7Dd2rGr  3i9UVldZOE0aD0JnyfAZZ0"
      ]
     },
     "metadata": {},
     "output_type": "display_data"
    },
    {
     "data": {
      "text/html": [
       "<div>\n",
       "<style scoped>\n",
       "    .dataframe tbody tr th:only-of-type {\n",
       "        vertical-align: middle;\n",
       "    }\n",
       "\n",
       "    .dataframe tbody tr th {\n",
       "        vertical-align: top;\n",
       "    }\n",
       "\n",
       "    .dataframe thead th {\n",
       "        text-align: right;\n",
       "    }\n",
       "</style>\n",
       "<table border=\"1\" class=\"dataframe\">\n",
       "  <thead>\n",
       "    <tr style=\"text-align: right;\">\n",
       "      <th></th>\n",
       "      <th>artist_id</th>\n",
       "      <th>artist_name</th>\n",
       "      <th>artist_pop</th>\n",
       "      <th>num_followers</th>\n",
       "      <th>artist_image_url</th>\n",
       "    </tr>\n",
       "  </thead>\n",
       "  <tbody>\n",
       "    <tr>\n",
       "      <th>0</th>\n",
       "      <td>06HL4z0CvFAxyc27GXpf02</td>\n",
       "      <td>Taylor Swift</td>\n",
       "      <td>91</td>\n",
       "      <td>27722243</td>\n",
       "      <td>https://i.scdn.co/image/62b33d12e2b9a033cf7758...</td>\n",
       "    </tr>\n",
       "    <tr>\n",
       "      <th>1</th>\n",
       "      <td>7n2wHs1TKAczGzO7Dd2rGr</td>\n",
       "      <td>Shawn Mendes</td>\n",
       "      <td>88</td>\n",
       "      <td>25074577</td>\n",
       "      <td>https://i.scdn.co/image/6bd59cfbd3e1e6394af710...</td>\n",
       "    </tr>\n",
       "    <tr>\n",
       "      <th>2</th>\n",
       "      <td>2wUjUUtkb5lvLKcGKsKqsR</td>\n",
       "      <td>Alessia Cara</td>\n",
       "      <td>81</td>\n",
       "      <td>6902897</td>\n",
       "      <td>https://i.scdn.co/image/56dcc0e8f919ea86b139b4...</td>\n",
       "    </tr>\n",
       "    <tr>\n",
       "      <th>3</th>\n",
       "      <td>6UleRY4Q1BRd2gRmPjFCQF</td>\n",
       "      <td>Deborah's Child</td>\n",
       "      <td>32</td>\n",
       "      <td>795</td>\n",
       "      <td>https://i.scdn.co/image/5124284457161f8cfc2bc7...</td>\n",
       "    </tr>\n",
       "    <tr>\n",
       "      <th>4</th>\n",
       "      <td>5nQybVOGIy5TZ1XK9CaDiS</td>\n",
       "      <td>Sarah Close</td>\n",
       "      <td>47</td>\n",
       "      <td>62126</td>\n",
       "      <td>https://i.scdn.co/image/e33b5760d8df64f5016e9c...</td>\n",
       "    </tr>\n",
       "  </tbody>\n",
       "</table>\n",
       "</div>"
      ],
      "text/plain": [
       "                artist_id      artist_name  artist_pop  num_followers  \\\n",
       "0  06HL4z0CvFAxyc27GXpf02     Taylor Swift          91       27722243   \n",
       "1  7n2wHs1TKAczGzO7Dd2rGr     Shawn Mendes          88       25074577   \n",
       "2  2wUjUUtkb5lvLKcGKsKqsR     Alessia Cara          81        6902897   \n",
       "3  6UleRY4Q1BRd2gRmPjFCQF  Deborah's Child          32            795   \n",
       "4  5nQybVOGIy5TZ1XK9CaDiS      Sarah Close          47          62126   \n",
       "\n",
       "                                    artist_image_url  \n",
       "0  https://i.scdn.co/image/62b33d12e2b9a033cf7758...  \n",
       "1  https://i.scdn.co/image/6bd59cfbd3e1e6394af710...  \n",
       "2  https://i.scdn.co/image/56dcc0e8f919ea86b139b4...  \n",
       "3  https://i.scdn.co/image/5124284457161f8cfc2bc7...  \n",
       "4  https://i.scdn.co/image/e33b5760d8df64f5016e9c...  "
      ]
     },
     "metadata": {},
     "output_type": "display_data"
    },
    {
     "data": {
      "text/html": [
       "<div>\n",
       "<style scoped>\n",
       "    .dataframe tbody tr th:only-of-type {\n",
       "        vertical-align: middle;\n",
       "    }\n",
       "\n",
       "    .dataframe tbody tr th {\n",
       "        vertical-align: top;\n",
       "    }\n",
       "\n",
       "    .dataframe thead th {\n",
       "        text-align: right;\n",
       "    }\n",
       "</style>\n",
       "<table border=\"1\" class=\"dataframe\">\n",
       "  <thead>\n",
       "    <tr style=\"text-align: right;\">\n",
       "      <th></th>\n",
       "      <th>artist_id</th>\n",
       "      <th>listener_id</th>\n",
       "      <th>time_span</th>\n",
       "    </tr>\n",
       "  </thead>\n",
       "  <tbody>\n",
       "    <tr>\n",
       "      <th>0</th>\n",
       "      <td>06HL4z0CvFAxyc27GXpf02</td>\n",
       "      <td>314xcqarki42gnkosjtfplluumya</td>\n",
       "      <td>short_term</td>\n",
       "    </tr>\n",
       "  </tbody>\n",
       "</table>\n",
       "</div>"
      ],
      "text/plain": [
       "                artist_id                   listener_id   time_span\n",
       "0  06HL4z0CvFAxyc27GXpf02  314xcqarki42gnkosjtfplluumya  short_term"
      ]
     },
     "metadata": {},
     "output_type": "display_data"
    },
    {
     "data": {
      "text/html": [
       "<div>\n",
       "<style scoped>\n",
       "    .dataframe tbody tr th:only-of-type {\n",
       "        vertical-align: middle;\n",
       "    }\n",
       "\n",
       "    .dataframe tbody tr th {\n",
       "        vertical-align: top;\n",
       "    }\n",
       "\n",
       "    .dataframe thead th {\n",
       "        text-align: right;\n",
       "    }\n",
       "</style>\n",
       "<table border=\"1\" class=\"dataframe\">\n",
       "  <thead>\n",
       "    <tr style=\"text-align: right;\">\n",
       "      <th></th>\n",
       "      <th>artist_id</th>\n",
       "      <th>artist_name</th>\n",
       "      <th>artist_pop</th>\n",
       "      <th>num_followers</th>\n",
       "      <th>artist_image_url</th>\n",
       "    </tr>\n",
       "  </thead>\n",
       "  <tbody>\n",
       "    <tr>\n",
       "      <th>0</th>\n",
       "      <td>06HL4z0CvFAxyc27GXpf02</td>\n",
       "      <td>Taylor Swift</td>\n",
       "      <td>91</td>\n",
       "      <td>27722243</td>\n",
       "      <td>https://i.scdn.co/image/62b33d12e2b9a033cf7758...</td>\n",
       "    </tr>\n",
       "  </tbody>\n",
       "</table>\n",
       "</div>"
      ],
      "text/plain": [
       "                artist_id   artist_name  artist_pop  num_followers  \\\n",
       "0  06HL4z0CvFAxyc27GXpf02  Taylor Swift          91       27722243   \n",
       "\n",
       "                                    artist_image_url  \n",
       "0  https://i.scdn.co/image/62b33d12e2b9a033cf7758...  "
      ]
     },
     "metadata": {},
     "output_type": "display_data"
    }
   ],
   "source": [
    "display(user_info)\n",
    "display(top_track_created_by.head())\n",
    "display(top_track_artists_to_add.head())\n",
    "display(top_artists)\n",
    "display(top_artists_to_add.head())\n",
    "\n"
   ]
  }
 ],
 "metadata": {
  "kernelspec": {
   "display_name": "Python 3",
   "language": "python",
   "name": "python3"
  },
  "language_info": {
   "codemirror_mode": {
    "name": "ipython",
    "version": 3
   },
   "file_extension": ".py",
   "mimetype": "text/x-python",
   "name": "python",
   "nbconvert_exporter": "python",
   "pygments_lexer": "ipython3",
   "version": "3.6.5"
  }
 },
 "nbformat": 4,
 "nbformat_minor": 2
}
