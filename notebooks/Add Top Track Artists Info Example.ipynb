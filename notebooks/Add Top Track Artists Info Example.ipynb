{
 "cells": [
  {
   "cell_type": "code",
   "execution_count": 1,
   "metadata": {},
   "outputs": [
    {
     "name": "stdout",
     "output_type": "stream",
     "text": [
      "Current working directory is now:  C:\\Users\\bnati\\Desktop\\Eclipse Workspaces\\CS-316-GROUP\\src\n"
     ]
    }
   ],
   "source": [
    "import os \n",
    "os.chdir('../src/')\n",
    "print(\"Current working directory is now: \", os.getcwd())\n",
    "\n",
    "import pandas as pd \n",
    "import numpy as np\n",
    "from pandas.io.json import json_normalize\n",
    "from IPython.display import display\n",
    "\n",
    "from data_processing.data_cleaning import *\n",
    "from data_processing.spotify_user import SpotifyUser\n",
    "from utils.load_confs import load_credentials\n",
    "\n",
    "spotify_creds = load_credentials()['spotify_dev_creds']"
   ]
  },
  {
   "cell_type": "code",
   "execution_count": 2,
   "metadata": {},
   "outputs": [],
   "source": [
    "\n",
    "# spotify = spotipy.Spotify()\n",
    "new_username = 'CarolineWang'\n",
    "new_user = SpotifyUser(spotify_creds['spotify_client_id'], \n",
    "                       spotify_creds['spotify_client_secret'], \n",
    "                       'http://localhost:8889', \n",
    "                       new_username)"
   ]
  },
  {
   "cell_type": "code",
   "execution_count": 3,
   "metadata": {
    "scrolled": false
   },
   "outputs": [
    {
     "data": {
      "text/html": [
       "<div>\n",
       "<style scoped>\n",
       "    .dataframe tbody tr th:only-of-type {\n",
       "        vertical-align: middle;\n",
       "    }\n",
       "\n",
       "    .dataframe tbody tr th {\n",
       "        vertical-align: top;\n",
       "    }\n",
       "\n",
       "    .dataframe thead th {\n",
       "        text-align: right;\n",
       "    }\n",
       "</style>\n",
       "<table border=\"1\" class=\"dataframe\">\n",
       "  <thead>\n",
       "    <tr style=\"text-align: right;\">\n",
       "      <th></th>\n",
       "      <th>num_followers</th>\n",
       "      <th>artist_id</th>\n",
       "      <th>artist_name</th>\n",
       "      <th>artist_pop</th>\n",
       "      <th>artist_image_url</th>\n",
       "    </tr>\n",
       "  </thead>\n",
       "  <tbody>\n",
       "    <tr>\n",
       "      <th>0</th>\n",
       "      <td>265270</td>\n",
       "      <td>17hR0sYHpx7VYTMRfFUOmY</td>\n",
       "      <td>Maurice Ravel</td>\n",
       "      <td>63</td>\n",
       "      <td>https://i.scdn.co/image/0d8f2b3e9ab748e7767fd3...</td>\n",
       "    </tr>\n",
       "    <tr>\n",
       "      <th>1</th>\n",
       "      <td>136</td>\n",
       "      <td>6Sqhwn4JweupJ3sn9zHNsq</td>\n",
       "      <td>Amandine Savary</td>\n",
       "      <td>23</td>\n",
       "      <td>https://i.scdn.co/image/ab67616d0000b273d2264b...</td>\n",
       "    </tr>\n",
       "    <tr>\n",
       "      <th>2</th>\n",
       "      <td>88</td>\n",
       "      <td>3qprTw1SHzbubNcJPqFaFS</td>\n",
       "      <td>Vineta Sareika</td>\n",
       "      <td>19</td>\n",
       "      <td>https://i.scdn.co/image/372c277b462ac21e29d4d6...</td>\n",
       "    </tr>\n",
       "    <tr>\n",
       "      <th>3</th>\n",
       "      <td>1327</td>\n",
       "      <td>5nRDtK82lHmYRXnKjAzI9j</td>\n",
       "      <td>Christian-Pierre La Marca</td>\n",
       "      <td>38</td>\n",
       "      <td>https://i.scdn.co/image/b12c0dcbc74d552418f275...</td>\n",
       "    </tr>\n",
       "    <tr>\n",
       "      <th>4</th>\n",
       "      <td>619836</td>\n",
       "      <td>6UE7nl9mha6s8z0wFQFIZ2</td>\n",
       "      <td>Robyn</td>\n",
       "      <td>70</td>\n",
       "      <td>https://i.scdn.co/image/ef9263000b485e9c0c44d4...</td>\n",
       "    </tr>\n",
       "  </tbody>\n",
       "</table>\n",
       "</div>"
      ],
      "text/plain": [
       "   num_followers               artist_id                artist_name  \\\n",
       "0         265270  17hR0sYHpx7VYTMRfFUOmY              Maurice Ravel   \n",
       "1            136  6Sqhwn4JweupJ3sn9zHNsq            Amandine Savary   \n",
       "2             88  3qprTw1SHzbubNcJPqFaFS             Vineta Sareika   \n",
       "3           1327  5nRDtK82lHmYRXnKjAzI9j  Christian-Pierre La Marca   \n",
       "4         619836  6UE7nl9mha6s8z0wFQFIZ2                      Robyn   \n",
       "\n",
       "   artist_pop                                   artist_image_url  \n",
       "0          63  https://i.scdn.co/image/0d8f2b3e9ab748e7767fd3...  \n",
       "1          23  https://i.scdn.co/image/ab67616d0000b273d2264b...  \n",
       "2          19  https://i.scdn.co/image/372c277b462ac21e29d4d6...  \n",
       "3          38  https://i.scdn.co/image/b12c0dcbc74d552418f275...  \n",
       "4          70  https://i.scdn.co/image/ef9263000b485e9c0c44d4...  "
      ]
     },
     "metadata": {},
     "output_type": "display_data"
    },
    {
     "data": {
      "text/html": [
       "<div>\n",
       "<style scoped>\n",
       "    .dataframe tbody tr th:only-of-type {\n",
       "        vertical-align: middle;\n",
       "    }\n",
       "\n",
       "    .dataframe tbody tr th {\n",
       "        vertical-align: top;\n",
       "    }\n",
       "\n",
       "    .dataframe thead th {\n",
       "        text-align: right;\n",
       "    }\n",
       "</style>\n",
       "<table border=\"1\" class=\"dataframe\">\n",
       "  <thead>\n",
       "    <tr style=\"text-align: right;\">\n",
       "      <th></th>\n",
       "      <th>artist_id</th>\n",
       "      <th>track_id</th>\n",
       "    </tr>\n",
       "  </thead>\n",
       "  <tbody>\n",
       "    <tr>\n",
       "      <th>0</th>\n",
       "      <td>17hR0sYHpx7VYTMRfFUOmY</td>\n",
       "      <td>0xH4hjpQfNInY3lqC3Osc1</td>\n",
       "    </tr>\n",
       "    <tr>\n",
       "      <th>1</th>\n",
       "      <td>6Sqhwn4JweupJ3sn9zHNsq</td>\n",
       "      <td>0xH4hjpQfNInY3lqC3Osc1</td>\n",
       "    </tr>\n",
       "    <tr>\n",
       "      <th>2</th>\n",
       "      <td>3qprTw1SHzbubNcJPqFaFS</td>\n",
       "      <td>0xH4hjpQfNInY3lqC3Osc1</td>\n",
       "    </tr>\n",
       "    <tr>\n",
       "      <th>3</th>\n",
       "      <td>5nRDtK82lHmYRXnKjAzI9j</td>\n",
       "      <td>0xH4hjpQfNInY3lqC3Osc1</td>\n",
       "    </tr>\n",
       "    <tr>\n",
       "      <th>4</th>\n",
       "      <td>6UE7nl9mha6s8z0wFQFIZ2</td>\n",
       "      <td>1RI3rY6Y5Shrr2pFCO1xmu</td>\n",
       "    </tr>\n",
       "  </tbody>\n",
       "</table>\n",
       "</div>"
      ],
      "text/plain": [
       "                artist_id                track_id\n",
       "0  17hR0sYHpx7VYTMRfFUOmY  0xH4hjpQfNInY3lqC3Osc1\n",
       "1  6Sqhwn4JweupJ3sn9zHNsq  0xH4hjpQfNInY3lqC3Osc1\n",
       "2  3qprTw1SHzbubNcJPqFaFS  0xH4hjpQfNInY3lqC3Osc1\n",
       "3  5nRDtK82lHmYRXnKjAzI9j  0xH4hjpQfNInY3lqC3Osc1\n",
       "4  6UE7nl9mha6s8z0wFQFIZ2  1RI3rY6Y5Shrr2pFCO1xmu"
      ]
     },
     "metadata": {},
     "output_type": "display_data"
    }
   ],
   "source": [
    "top_track_created_by, top_track_artists_to_add = clean_top_tracks_artist_info(new_user)\n",
    "\n",
    "display(top_track_artists_to_add.head())\n",
    "display(top_track_created_by.head())\n",
    "# TODO: GET THE REST OF ARTIST INFORMATION"
   ]
  },
  {
   "cell_type": "code",
   "execution_count": null,
   "metadata": {},
   "outputs": [],
   "source": []
  }
 ],
 "metadata": {
  "kernelspec": {
   "display_name": "Python 3",
   "language": "python",
   "name": "python3"
  },
  "language_info": {
   "codemirror_mode": {
    "name": "ipython",
    "version": 3
   },
   "file_extension": ".py",
   "mimetype": "text/x-python",
   "name": "python",
   "nbconvert_exporter": "python",
   "pygments_lexer": "ipython3",
   "version": "3.6.5"
  }
 },
 "nbformat": 4,
 "nbformat_minor": 2
}
