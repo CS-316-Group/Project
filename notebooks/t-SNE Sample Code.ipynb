{
 "cells": [
  {
   "cell_type": "code",
   "execution_count": 40,
   "metadata": {},
   "outputs": [],
   "source": [
    "import numpy as np\n",
    "from sklearn.manifold import TSNE as TSNE\n",
    "import matplotlib.pyplot as plt"
   ]
  },
  {
   "cell_type": "markdown",
   "metadata": {},
   "source": [
    "https://scikit-learn.org/stable/modules/generated/sklearn.manifold.TSNE.html\n",
    "https://scikit-learn.org/stable/modules/manifold.html#t-sne\n",
    "\n",
    "class sklearn.manifold.TSNE(n_components=2, \n",
    "                            perplexity=30.0, \n",
    "                            early_exaggeration=12.0, \n",
    "                            learning_rate=200.0, \n",
    "                            n_iter=1000, \n",
    "                            n_iter_without_progress=300, \n",
    "                            min_grad_norm=1e-07, \n",
    "                            metric='euclidean', \n",
    "                            init='random', \n",
    "                            verbose=0, \n",
    "                            random_state=None, \n",
    "                            method='barnes_hut', \n",
    "                            angle=0.5, \n",
    "                            n_jobs=None)\n",
    "\n",
    "o perplexity is essentially the number of nearest neighbors considered when computing the conditional probabilities\n",
    "o says online that the maximum number of iterations is usually high enough and does not need any tuning\n",
    "o during early exaggeration the joint probabilities in the original space will be artificially increased by multiplication with a given factor. Larger factors result in larger gaps between natural clusters in the data. If the factor is too high, the KL divergence could increase during this phase. Usually it does not have to be tuned.\n",
    "o learning rate: if it is too low gradient descent will get stuck in a bad local minimum. If it is too high the KL divergence will increase during optimization.\n",
    "o angle, is a tradeoff between performance and accuracy. Larger angles imply that we can approximate larger regions by a single point, leading to better speed but less accurate results.\n",
    "\n",
    "t-SNE is a tool to visualize high-dimensional data. It converts similarities between data \n",
    "points to joint probabilities and tries to minimize the Kullback-Leibler divergence between the \n",
    "joint probabilities of the low-dimensional embedding and the high-dimensional data. t-SNE has \n",
    "a cost function that is not convex, i.e. with different initializations we can get different results.\n",
    "\n",
    "It is highly recommended to use another dimensionality reduction method (e.g. PCA for dense data \n",
    "or TruncatedSVD for sparse data) to reduce the number of dimensions to a reasonable amount (e.g. 50) \n",
    "if the number of features is very high. This will suppress some noise and speed up the computation \n",
    "of pairwise distances between samples. For more tips see Laurens van der Maaten’s FAQ.\n",
    "\n",
    "Methods\n",
    "\n",
    "fit(self, X[, y])               Fit X into an embedded space.\n",
    "\n",
    "fit_transform(self, X[, y])     Fit X into an embedded space and return that transformed output.\n",
    "\n",
    "get_params(self[, deep])        Get parameters for this estimator.\n",
    "\n",
    "set_params(self, \\*\\*params)    Set the parameters of this estimator."
   ]
  },
  {
   "cell_type": "code",
   "execution_count": 10,
   "metadata": {},
   "outputs": [
    {
     "name": "stdout",
     "output_type": "stream",
     "text": [
      "[[ -32.63168      2.0344007]\n",
      " [ -25.902143  -157.87627  ]\n",
      " [-109.219376   -81.285576 ]\n",
      " [  50.685528   -74.55626  ]]\n",
      "(4, 2)\n"
     ]
    }
   ],
   "source": [
    "# sample code\n",
    "X = np.array([[0, 0, 0], [0, 1, 1], [1, 0, 1], [1, 1, 1]])\n",
    "X_embedded = TSNE(n_components=2).fit_transform(X)\n",
    "\n",
    "print(X_embedded)\n",
    "print(X_embedded.shape)"
   ]
  },
  {
   "cell_type": "code",
   "execution_count": 62,
   "metadata": {},
   "outputs": [
    {
     "data": {
      "text/plain": [
       "<function matplotlib.pyplot.show(*args, **kw)>"
      ]
     },
     "execution_count": 62,
     "metadata": {},
     "output_type": "execute_result"
    },
    {
     "data": {
      "image/png": "[encoded data removed]",
      "text/plain": [
       "<Figure size 432x288 with 1 Axes>"
      ]
     },
     "metadata": {
      "needs_background": "light"
     },
     "output_type": "display_data"
    }
   ],
   "source": [
    "size_cluster_one = 50\n",
    "size_cluster_two = 50\n",
    "dimension = 50\n",
    "\n",
    "cluster_one = []\n",
    "cluster_one_mean    = -100\n",
    "cluster_one_std     = 1\n",
    "\n",
    "cluster_two = []\n",
    "cluster_two_mean    = 100\n",
    "cluster_two_std     = 1\n",
    "\n",
    "for i in range(size_cluster_one):\n",
    "    cluster_one.append(np.random.normal(cluster_one_mean, cluster_one_std, dimension))\n",
    "    \n",
    "for i in range(size_cluster_two):\n",
    "    cluster_two.append(np.random.normal(cluster_two_mean, cluster_two_std, dimension))\n",
    "\n",
    "data = np.append(cluster_one, cluster_two, axis=0)\n",
    "X_embedded = TSNE(n_components=2, perplexity=40).fit_transform(data)\n",
    "\n",
    "# print(data)\n",
    "# print()\n",
    "# print(X_embedded)\n",
    "\n",
    "plt.plot(X_embedded, color = 'b', marker = 'o', markersize = 4, linewidth=0)\n",
    "title = \"Test Title\"\n",
    "plt.title(title)\n",
    "plt.xlabel(\"x coordinate\")\n",
    "plt.ylabel(\"y coordinate\")\n",
    "plt.show"
   ]
  },
  {
   "cell_type": "code",
   "execution_count": null,
   "metadata": {},
   "outputs": [],
   "source": []
  }
 ],
 "metadata": {
  "kernelspec": {
   "display_name": "Python 3",
   "language": "python",
   "name": "python3"
  },
  "language_info": {
   "codemirror_mode": {
    "name": "ipython",
    "version": 3
   },
   "file_extension": ".py",
   "mimetype": "text/x-python",
   "name": "python",
   "nbconvert_exporter": "python",
   "pygments_lexer": "ipython3",
   "version": "3.7.3"
  }
 },
 "nbformat": 4,
 "nbformat_minor": 2
}
